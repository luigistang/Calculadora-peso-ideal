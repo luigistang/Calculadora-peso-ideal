{
 "cells": [
  {
   "cell_type": "code",
   "execution_count": 1,
   "metadata": {},
   "outputs": [
    {
     "name": "stdout",
     "output_type": "stream",
     "text": [
      "Estmos calculando seu peso ideal sendo você uma mulher\n",
      "Sua altura é de:  1.64\n",
      "Seu peso ideal é de:  57.14399999999999\n",
      "Obrigado por usar!\n"
     ]
    }
   ],
   "source": [
    "# Coletar duas Váriaveis sendo uma mulher e outra homem.\n",
    "sexo = input(\"Digite homem para homem e mulher para mulher\")\n",
    "# Coletando a altura e convertendo para float.\n",
    "altura = float(input(\"Digite sua altura\"))\n",
    "# Criando condições especificas para homem e para mulher.\n",
    "if sexo == \"homem\":\n",
    "    #Atribuindo o valor sexo para homem.\n",
    "   homem = sexo\n",
    "   print(\"Estamos calculando seu peso ideal sendo você um homem\")\n",
    "   print(\"Sua altura é de: \",altura)\n",
    "   # Criando uma váriavél de conta para homem e atribuindo a outra variável.\n",
    "   conta_h = altura * 72.7 - 58 \n",
    "   h = conta_h\n",
    "   # Imprimindo resultado da conta.\n",
    "   print(\"Seu peso ideal é de: \", h)\n",
    " # Criando uma váriavél de conta para mulher e atribuindo a outra variável.\n",
    "elif sexo == \"mulher\":\n",
    "    mulher = sexo\n",
    "    print(\"Estmos calculando seu peso ideal sendo você uma mulher\")\n",
    "    print(\"Sua altura é de: \",altura)\n",
    "    conta_m = altura * 62.1 - 44.7\n",
    "    m =  conta_m\n",
    "    print(\"Seu peso ideal é de: \", m)\n",
    "    # Imprimindo o resultado da conta pra mulher.\n",
    "    # Criando um else para caso seja digitado errado alguma informação.\n",
    "else: \n",
    "    print(\"Você digitou algo errado\")\n",
    "    # Imprimindo a mensagem de agradecimento.\n",
    "print(\"Obrigado por usar!\")\n",
    "    \n"
   ]
  },
  {
   "cell_type": "code",
   "execution_count": null,
   "metadata": {},
   "outputs": [],
   "source": []
  },
  {
   "cell_type": "code",
   "execution_count": null,
   "metadata": {},
   "outputs": [],
   "source": []
  }
 ],
 "metadata": {
  "kernelspec": {
   "display_name": "Python 3",
   "language": "python",
   "name": "python3"
  },
  "language_info": {
   "codemirror_mode": {
    "name": "ipython",
    "version": 3
   },
   "file_extension": ".py",
   "mimetype": "text/x-python",
   "name": "python",
   "nbconvert_exporter": "python",
   "pygments_lexer": "ipython3",
   "version": "3.9.13"
  }
 },
 "nbformat": 4,
 "nbformat_minor": 2
}
